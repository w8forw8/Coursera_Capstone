{
 "cells": [
  {
   "cell_type": "markdown",
   "metadata": {},
   "source": [
    "# Importing relevant libraries"
   ]
  },
  {
   "cell_type": "code",
   "execution_count": 3,
   "metadata": {},
   "outputs": [],
   "source": [
    "import numpy as np\n",
    "import pandas as pd\n",
    "import json\n",
    "import requests\n",
    "from sklearn import linear_model\n",
    "from sklearn.metrics import r2_score\n",
    "from sklearn.preprocessing import PolynomialFeatures\n",
    "import folium\n",
    "import matplotlib.pyplot as plt\n",
    "import seaborn as sns"
   ]
  },
  {
   "cell_type": "markdown",
   "metadata": {},
   "source": [
    "# Loading data for each district"
   ]
  },
  {
   "cell_type": "code",
   "execution_count": 5,
   "metadata": {},
   "outputs": [
    {
     "data": {
      "text/html": [
       "<div>\n",
       "<style scoped>\n",
       "    .dataframe tbody tr th:only-of-type {\n",
       "        vertical-align: middle;\n",
       "    }\n",
       "\n",
       "    .dataframe tbody tr th {\n",
       "        vertical-align: top;\n",
       "    }\n",
       "\n",
       "    .dataframe thead th {\n",
       "        text-align: right;\n",
       "    }\n",
       "</style>\n",
       "<table border=\"1\" class=\"dataframe\">\n",
       "  <thead>\n",
       "    <tr style=\"text-align: right;\">\n",
       "      <th></th>\n",
       "      <th>name</th>\n",
       "      <th>latitude</th>\n",
       "      <th>longitude</th>\n",
       "    </tr>\n",
       "  </thead>\n",
       "  <tbody>\n",
       "    <tr>\n",
       "      <td>0</td>\n",
       "      <td>Kazimierz</td>\n",
       "      <td>50.050186</td>\n",
       "      <td>19.945066</td>\n",
       "    </tr>\n",
       "    <tr>\n",
       "      <td>1</td>\n",
       "      <td>Main square</td>\n",
       "      <td>50.061731</td>\n",
       "      <td>19.938071</td>\n",
       "    </tr>\n",
       "  </tbody>\n",
       "</table>\n",
       "</div>"
      ],
      "text/plain": [
       "          name   latitude  longitude\n",
       "0    Kazimierz  50.050186  19.945066\n",
       "1  Main square  50.061731  19.938071"
      ]
     },
     "execution_count": 5,
     "metadata": {},
     "output_type": "execute_result"
    }
   ],
   "source": [
    "data = pd.DataFrame({'name':['Kazimierz','Main square'],\n",
    "                     'latitude':[50.050186,50.061731],\n",
    "                     'longitude':[19.945066,19.938071]})\n",
    "data"
   ]
  },
  {
   "cell_type": "markdown",
   "metadata": {},
   "source": [
    "# Creating folium map of Cracow"
   ]
  },
  {
   "cell_type": "code",
   "execution_count": 8,
   "metadata": {},
   "outputs": [
    {
     "data": {
      "text/html": [
       "<div style=\"width:100%;\"><div style=\"position:relative;width:100%;height:0;padding-bottom:60%;\"><iframe src=\"about:blank\" style=\"position:absolute;width:100%;height:100%;left:0;top:0;border:none !important;\" data-html=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 onload=\"this.contentDocument.open();this.contentDocument.write(atob(this.getAttribute('data-html')));this.contentDocument.close();\" allowfullscreen webkitallowfullscreen mozallowfullscreen></iframe></div></div>"
      ],
      "text/plain": [
       "<folium.folium.Map at 0x17b97db9288>"
      ]
     },
     "execution_count": 8,
     "metadata": {},
     "output_type": "execute_result"
    }
   ],
   "source": [
    "map_cracow = folium.Map(location = [50.0554,19.9383], zoom_start=14.4)\n",
    "\n",
    "for lat,long,name in zip(data['latitude'],data['longitude'],data['name']):\n",
    "    folium.Marker(\n",
    "        [lat,long],\n",
    "        popup = name).add_to(map_cracow)\n",
    "map_cracow"
   ]
  },
  {
   "cell_type": "code",
   "execution_count": 4,
   "metadata": {},
   "outputs": [],
   "source": [
    "CLIENT_ID = '-' \n",
    "CLIENT_SECRET = '-' \n",
    "VERSION = '-' \n",
    "LIMIT = 100"
   ]
  },
  {
   "cell_type": "markdown",
   "metadata": {},
   "source": [
    "# Function for aquaring data through explore endpoint of Foursquare API"
   ]
  },
  {
   "cell_type": "code",
   "execution_count": 5,
   "metadata": {},
   "outputs": [],
   "source": [
    "def getVanues(names, latitudes,longtitudes,RADIUS=400):\n",
    "    \n",
    "    venues_list=[]\n",
    "    \n",
    "    for name,lat,lng in zip(names,latitudes,longtitudes):\n",
    "        print(name)\n",
    "        \n",
    "        url = 'https://api.foursquare.com/v2/venues/explore?client_id={}&client_secret={}&ll={},{}&v={}&radius={}&limit={}'.format(\n",
    "            CLIENT_ID, \n",
    "            CLIENT_SECRET, \n",
    "            lat, \n",
    "            lng, \n",
    "            VERSION, \n",
    "            RADIUS, \n",
    "            LIMIT)\n",
    "        \n",
    "        results = requests.get(url).json()['response']['groups'][0]['items']\n",
    "        \n",
    "        venues_list.append([(\n",
    "            name,\n",
    "            v['venue']['id'],\n",
    "            v['venue']['name'], \n",
    "            v['venue']['location']['lat'], \n",
    "            v['venue']['location']['lng'],  \n",
    "            v['venue']['categories'][0]['name']) for v in results])\n",
    "        \n",
    "    venues = pd.DataFrame([item for venues_list in venues_list for item in venues_list])\n",
    "    venues.columns = ['District','id','Venues','Venue Latitude', 'Venue Longitude', 'Venue Category']\n",
    "    return(venues)"
   ]
  },
  {
   "cell_type": "code",
   "execution_count": 6,
   "metadata": {},
   "outputs": [
    {
     "name": "stdout",
     "output_type": "stream",
     "text": [
      "Kazimierz\n",
      "Main square\n"
     ]
    }
   ],
   "source": [
    "venues = getVanues(names=data['name'],\n",
    "                   latitudes=data['latitude'],\n",
    "                   longtitudes=data['longitude'])"
   ]
  },
  {
   "cell_type": "markdown",
   "metadata": {},
   "source": [
    "# DataFrame with local venues"
   ]
  },
  {
   "cell_type": "code",
   "execution_count": 7,
   "metadata": {},
   "outputs": [
    {
     "data": {
      "text/html": [
       "<div>\n",
       "<style scoped>\n",
       "    .dataframe tbody tr th:only-of-type {\n",
       "        vertical-align: middle;\n",
       "    }\n",
       "\n",
       "    .dataframe tbody tr th {\n",
       "        vertical-align: top;\n",
       "    }\n",
       "\n",
       "    .dataframe thead th {\n",
       "        text-align: right;\n",
       "    }\n",
       "</style>\n",
       "<table border=\"1\" class=\"dataframe\">\n",
       "  <thead>\n",
       "    <tr style=\"text-align: right;\">\n",
       "      <th></th>\n",
       "      <th>District</th>\n",
       "      <th>id</th>\n",
       "      <th>Venues</th>\n",
       "      <th>Venue Latitude</th>\n",
       "      <th>Venue Longitude</th>\n",
       "      <th>Venue Category</th>\n",
       "    </tr>\n",
       "  </thead>\n",
       "  <tbody>\n",
       "    <tr>\n",
       "      <td>0</td>\n",
       "      <td>Kazimierz</td>\n",
       "      <td>56193c32498e5b08a853b2e6</td>\n",
       "      <td>Youmiko Sushi</td>\n",
       "      <td>50.050314</td>\n",
       "      <td>19.943130</td>\n",
       "      <td>Sushi Restaurant</td>\n",
       "    </tr>\n",
       "    <tr>\n",
       "      <td>1</td>\n",
       "      <td>Kazimierz</td>\n",
       "      <td>55ce5da3498e5b80f82f9afc</td>\n",
       "      <td>BARaWINO</td>\n",
       "      <td>50.048434</td>\n",
       "      <td>19.944891</td>\n",
       "      <td>Wine Bar</td>\n",
       "    </tr>\n",
       "    <tr>\n",
       "      <td>2</td>\n",
       "      <td>Kazimierz</td>\n",
       "      <td>5639c271cd1086837a2fea42</td>\n",
       "      <td>Nolio</td>\n",
       "      <td>50.049356</td>\n",
       "      <td>19.942901</td>\n",
       "      <td>Pizza Place</td>\n",
       "    </tr>\n",
       "    <tr>\n",
       "      <td>3</td>\n",
       "      <td>Kazimierz</td>\n",
       "      <td>5283cd6411d296aa84e3d8d7</td>\n",
       "      <td>Bottiglieria 1881</td>\n",
       "      <td>50.048738</td>\n",
       "      <td>19.946163</td>\n",
       "      <td>Italian Restaurant</td>\n",
       "    </tr>\n",
       "    <tr>\n",
       "      <td>4</td>\n",
       "      <td>Kazimierz</td>\n",
       "      <td>57262e7c498e0c9c72558bb5</td>\n",
       "      <td>Good Lood</td>\n",
       "      <td>50.048777</td>\n",
       "      <td>19.944739</td>\n",
       "      <td>Ice Cream Shop</td>\n",
       "    </tr>\n",
       "    <tr>\n",
       "      <td>...</td>\n",
       "      <td>...</td>\n",
       "      <td>...</td>\n",
       "      <td>...</td>\n",
       "      <td>...</td>\n",
       "      <td>...</td>\n",
       "      <td>...</td>\n",
       "    </tr>\n",
       "    <tr>\n",
       "      <td>195</td>\n",
       "      <td>Main square</td>\n",
       "      <td>55448431498e731178b9e24b</td>\n",
       "      <td>Little Havana Hostel</td>\n",
       "      <td>50.061960</td>\n",
       "      <td>19.934831</td>\n",
       "      <td>Hostel</td>\n",
       "    </tr>\n",
       "    <tr>\n",
       "      <td>196</td>\n",
       "      <td>Main square</td>\n",
       "      <td>4fb68199e4b0204f4d42f2e0</td>\n",
       "      <td>Muzeum Farmacji</td>\n",
       "      <td>50.063268</td>\n",
       "      <td>19.940134</td>\n",
       "      <td>History Museum</td>\n",
       "    </tr>\n",
       "    <tr>\n",
       "      <td>197</td>\n",
       "      <td>Main square</td>\n",
       "      <td>4cdda698db1254810bab2bce</td>\n",
       "      <td>CK Dezerter</td>\n",
       "      <td>50.060336</td>\n",
       "      <td>19.936326</td>\n",
       "      <td>Eastern European Restaurant</td>\n",
       "    </tr>\n",
       "    <tr>\n",
       "      <td>198</td>\n",
       "      <td>Main square</td>\n",
       "      <td>51802019498ef82bbe68129f</td>\n",
       "      <td>Tiffany Ice cream</td>\n",
       "      <td>50.063795</td>\n",
       "      <td>19.935643</td>\n",
       "      <td>Ice Cream Shop</td>\n",
       "    </tr>\n",
       "    <tr>\n",
       "      <td>199</td>\n",
       "      <td>Main square</td>\n",
       "      <td>4db6deca5da3a76f446edef3</td>\n",
       "      <td>Szara Resto&amp;Bar</td>\n",
       "      <td>50.061323</td>\n",
       "      <td>19.938078</td>\n",
       "      <td>Restaurant</td>\n",
       "    </tr>\n",
       "  </tbody>\n",
       "</table>\n",
       "<p>200 rows × 6 columns</p>\n",
       "</div>"
      ],
      "text/plain": [
       "        District                        id                Venues  \\\n",
       "0      Kazimierz  56193c32498e5b08a853b2e6         Youmiko Sushi   \n",
       "1      Kazimierz  55ce5da3498e5b80f82f9afc              BARaWINO   \n",
       "2      Kazimierz  5639c271cd1086837a2fea42                 Nolio   \n",
       "3      Kazimierz  5283cd6411d296aa84e3d8d7     Bottiglieria 1881   \n",
       "4      Kazimierz  57262e7c498e0c9c72558bb5             Good Lood   \n",
       "..           ...                       ...                   ...   \n",
       "195  Main square  55448431498e731178b9e24b  Little Havana Hostel   \n",
       "196  Main square  4fb68199e4b0204f4d42f2e0       Muzeum Farmacji   \n",
       "197  Main square  4cdda698db1254810bab2bce           CK Dezerter   \n",
       "198  Main square  51802019498ef82bbe68129f     Tiffany Ice cream   \n",
       "199  Main square  4db6deca5da3a76f446edef3       Szara Resto&Bar   \n",
       "\n",
       "     Venue Latitude  Venue Longitude               Venue Category  \n",
       "0         50.050314        19.943130             Sushi Restaurant  \n",
       "1         50.048434        19.944891                     Wine Bar  \n",
       "2         50.049356        19.942901                  Pizza Place  \n",
       "3         50.048738        19.946163           Italian Restaurant  \n",
       "4         50.048777        19.944739               Ice Cream Shop  \n",
       "..              ...              ...                          ...  \n",
       "195       50.061960        19.934831                       Hostel  \n",
       "196       50.063268        19.940134               History Museum  \n",
       "197       50.060336        19.936326  Eastern European Restaurant  \n",
       "198       50.063795        19.935643               Ice Cream Shop  \n",
       "199       50.061323        19.938078                   Restaurant  \n",
       "\n",
       "[200 rows x 6 columns]"
      ]
     },
     "execution_count": 7,
     "metadata": {},
     "output_type": "execute_result"
    }
   ],
   "source": [
    "venues"
   ]
  },
  {
   "cell_type": "code",
   "execution_count": 8,
   "metadata": {},
   "outputs": [
    {
     "data": {
      "text/plain": [
       "Index(['District', 'id', 'Venues', 'Venue Latitude', 'Venue Longitude',\n",
       "       'Venue Category'],\n",
       "      dtype='object')"
      ]
     },
     "execution_count": 8,
     "metadata": {},
     "output_type": "execute_result"
    }
   ],
   "source": [
    "venues.columns"
   ]
  },
  {
   "cell_type": "markdown",
   "metadata": {},
   "source": [
    "# Function for aquaring data through details endpoint of Foursquare API"
   ]
  },
  {
   "cell_type": "code",
   "execution_count": 9,
   "metadata": {},
   "outputs": [],
   "source": [
    "def getVanues_details(venue_list):\n",
    "    \n",
    "    venues_list_details = []\n",
    "    \n",
    "    \n",
    "    for venue_id in venue_list:\n",
    "    \n",
    "        url = 'https://api.foursquare.com/v2/venues/{}?client_id={}&client_secret={}&v={}'.format(\n",
    "            venue_id, \n",
    "            CLIENT_ID, \n",
    "            CLIENT_SECRET,\n",
    "            VERSION)\n",
    "        \n",
    "        results_list = []\n",
    "        results = requests.get(url).json()['response']['venue']\n",
    "        results_list.append(results)\n",
    "        \n",
    "        venues_list_details.append([(\n",
    "            venue_id,\n",
    "            v['verified'],\n",
    "            v['rating'],\n",
    "            v['tips']['count'],\n",
    "            v['likes']['count'],\n",
    "            v['photos']['count']) for v in results_list])\n",
    "        \n",
    "    venues_details = pd.DataFrame([item for venues_list_details in venues_list_details for item in venues_list_details])\n",
    "    venues_details.columns = ['id','Verified', 'Rating', 'Tips Count','Likes Count','Photos Count']\n",
    "    return(venues_details)"
   ]
  },
  {
   "cell_type": "code",
   "execution_count": 10,
   "metadata": {},
   "outputs": [],
   "source": [
    "venues_details = getVanues_details(venues['id'])"
   ]
  },
  {
   "cell_type": "markdown",
   "metadata": {},
   "source": [
    "# DataFrame with local venues details"
   ]
  },
  {
   "cell_type": "code",
   "execution_count": 11,
   "metadata": {},
   "outputs": [
    {
     "data": {
      "text/html": [
       "<div>\n",
       "<style scoped>\n",
       "    .dataframe tbody tr th:only-of-type {\n",
       "        vertical-align: middle;\n",
       "    }\n",
       "\n",
       "    .dataframe tbody tr th {\n",
       "        vertical-align: top;\n",
       "    }\n",
       "\n",
       "    .dataframe thead th {\n",
       "        text-align: right;\n",
       "    }\n",
       "</style>\n",
       "<table border=\"1\" class=\"dataframe\">\n",
       "  <thead>\n",
       "    <tr style=\"text-align: right;\">\n",
       "      <th></th>\n",
       "      <th>id</th>\n",
       "      <th>Verified</th>\n",
       "      <th>Rating</th>\n",
       "      <th>Tips Count</th>\n",
       "      <th>Likes Count</th>\n",
       "      <th>Photos Count</th>\n",
       "    </tr>\n",
       "  </thead>\n",
       "  <tbody>\n",
       "    <tr>\n",
       "      <td>0</td>\n",
       "      <td>56193c32498e5b08a853b2e6</td>\n",
       "      <td>False</td>\n",
       "      <td>9.5</td>\n",
       "      <td>89</td>\n",
       "      <td>237</td>\n",
       "      <td>102</td>\n",
       "    </tr>\n",
       "    <tr>\n",
       "      <td>1</td>\n",
       "      <td>55ce5da3498e5b80f82f9afc</td>\n",
       "      <td>False</td>\n",
       "      <td>9.2</td>\n",
       "      <td>13</td>\n",
       "      <td>67</td>\n",
       "      <td>21</td>\n",
       "    </tr>\n",
       "    <tr>\n",
       "      <td>2</td>\n",
       "      <td>5639c271cd1086837a2fea42</td>\n",
       "      <td>False</td>\n",
       "      <td>9.0</td>\n",
       "      <td>77</td>\n",
       "      <td>251</td>\n",
       "      <td>50</td>\n",
       "    </tr>\n",
       "    <tr>\n",
       "      <td>3</td>\n",
       "      <td>5283cd6411d296aa84e3d8d7</td>\n",
       "      <td>False</td>\n",
       "      <td>8.7</td>\n",
       "      <td>5</td>\n",
       "      <td>22</td>\n",
       "      <td>11</td>\n",
       "    </tr>\n",
       "    <tr>\n",
       "      <td>4</td>\n",
       "      <td>57262e7c498e0c9c72558bb5</td>\n",
       "      <td>False</td>\n",
       "      <td>8.6</td>\n",
       "      <td>34</td>\n",
       "      <td>109</td>\n",
       "      <td>38</td>\n",
       "    </tr>\n",
       "    <tr>\n",
       "      <td>...</td>\n",
       "      <td>...</td>\n",
       "      <td>...</td>\n",
       "      <td>...</td>\n",
       "      <td>...</td>\n",
       "      <td>...</td>\n",
       "      <td>...</td>\n",
       "    </tr>\n",
       "    <tr>\n",
       "      <td>195</td>\n",
       "      <td>55448431498e731178b9e24b</td>\n",
       "      <td>False</td>\n",
       "      <td>7.6</td>\n",
       "      <td>3</td>\n",
       "      <td>10</td>\n",
       "      <td>6</td>\n",
       "    </tr>\n",
       "    <tr>\n",
       "      <td>196</td>\n",
       "      <td>4fb68199e4b0204f4d42f2e0</td>\n",
       "      <td>False</td>\n",
       "      <td>7.5</td>\n",
       "      <td>1</td>\n",
       "      <td>8</td>\n",
       "      <td>7</td>\n",
       "    </tr>\n",
       "    <tr>\n",
       "      <td>197</td>\n",
       "      <td>4cdda698db1254810bab2bce</td>\n",
       "      <td>False</td>\n",
       "      <td>7.4</td>\n",
       "      <td>6</td>\n",
       "      <td>26</td>\n",
       "      <td>28</td>\n",
       "    </tr>\n",
       "    <tr>\n",
       "      <td>198</td>\n",
       "      <td>51802019498ef82bbe68129f</td>\n",
       "      <td>False</td>\n",
       "      <td>7.8</td>\n",
       "      <td>23</td>\n",
       "      <td>50</td>\n",
       "      <td>30</td>\n",
       "    </tr>\n",
       "    <tr>\n",
       "      <td>199</td>\n",
       "      <td>4db6deca5da3a76f446edef3</td>\n",
       "      <td>False</td>\n",
       "      <td>7.4</td>\n",
       "      <td>31</td>\n",
       "      <td>54</td>\n",
       "      <td>123</td>\n",
       "    </tr>\n",
       "  </tbody>\n",
       "</table>\n",
       "<p>200 rows × 6 columns</p>\n",
       "</div>"
      ],
      "text/plain": [
       "                           id  Verified  Rating  Tips Count  Likes Count  \\\n",
       "0    56193c32498e5b08a853b2e6     False     9.5          89          237   \n",
       "1    55ce5da3498e5b80f82f9afc     False     9.2          13           67   \n",
       "2    5639c271cd1086837a2fea42     False     9.0          77          251   \n",
       "3    5283cd6411d296aa84e3d8d7     False     8.7           5           22   \n",
       "4    57262e7c498e0c9c72558bb5     False     8.6          34          109   \n",
       "..                        ...       ...     ...         ...          ...   \n",
       "195  55448431498e731178b9e24b     False     7.6           3           10   \n",
       "196  4fb68199e4b0204f4d42f2e0     False     7.5           1            8   \n",
       "197  4cdda698db1254810bab2bce     False     7.4           6           26   \n",
       "198  51802019498ef82bbe68129f     False     7.8          23           50   \n",
       "199  4db6deca5da3a76f446edef3     False     7.4          31           54   \n",
       "\n",
       "     Photos Count  \n",
       "0             102  \n",
       "1              21  \n",
       "2              50  \n",
       "3              11  \n",
       "4              38  \n",
       "..            ...  \n",
       "195             6  \n",
       "196             7  \n",
       "197            28  \n",
       "198            30  \n",
       "199           123  \n",
       "\n",
       "[200 rows x 6 columns]"
      ]
     },
     "execution_count": 11,
     "metadata": {},
     "output_type": "execute_result"
    }
   ],
   "source": [
    "venues_details"
   ]
  },
  {
   "cell_type": "markdown",
   "metadata": {},
   "source": [
    "# Merging both DataFrames"
   ]
  },
  {
   "cell_type": "code",
   "execution_count": 12,
   "metadata": {},
   "outputs": [],
   "source": [
    "venues = venues.merge(venues_details, on='id')"
   ]
  },
  {
   "cell_type": "code",
   "execution_count": 13,
   "metadata": {},
   "outputs": [
    {
     "data": {
      "text/html": [
       "<div>\n",
       "<style scoped>\n",
       "    .dataframe tbody tr th:only-of-type {\n",
       "        vertical-align: middle;\n",
       "    }\n",
       "\n",
       "    .dataframe tbody tr th {\n",
       "        vertical-align: top;\n",
       "    }\n",
       "\n",
       "    .dataframe thead th {\n",
       "        text-align: right;\n",
       "    }\n",
       "</style>\n",
       "<table border=\"1\" class=\"dataframe\">\n",
       "  <thead>\n",
       "    <tr style=\"text-align: right;\">\n",
       "      <th></th>\n",
       "      <th>District</th>\n",
       "      <th>id</th>\n",
       "      <th>Venues</th>\n",
       "      <th>Venue Latitude</th>\n",
       "      <th>Venue Longitude</th>\n",
       "      <th>Venue Category</th>\n",
       "      <th>Verified</th>\n",
       "      <th>Rating</th>\n",
       "      <th>Tips Count</th>\n",
       "      <th>Likes Count</th>\n",
       "      <th>Photos Count</th>\n",
       "    </tr>\n",
       "  </thead>\n",
       "  <tbody>\n",
       "    <tr>\n",
       "      <td>0</td>\n",
       "      <td>Kazimierz</td>\n",
       "      <td>56193c32498e5b08a853b2e6</td>\n",
       "      <td>Youmiko Sushi</td>\n",
       "      <td>50.050314</td>\n",
       "      <td>19.943130</td>\n",
       "      <td>Sushi Restaurant</td>\n",
       "      <td>False</td>\n",
       "      <td>9.5</td>\n",
       "      <td>89</td>\n",
       "      <td>237</td>\n",
       "      <td>102</td>\n",
       "    </tr>\n",
       "    <tr>\n",
       "      <td>1</td>\n",
       "      <td>Kazimierz</td>\n",
       "      <td>55ce5da3498e5b80f82f9afc</td>\n",
       "      <td>BARaWINO</td>\n",
       "      <td>50.048434</td>\n",
       "      <td>19.944891</td>\n",
       "      <td>Wine Bar</td>\n",
       "      <td>False</td>\n",
       "      <td>9.2</td>\n",
       "      <td>13</td>\n",
       "      <td>67</td>\n",
       "      <td>21</td>\n",
       "    </tr>\n",
       "    <tr>\n",
       "      <td>2</td>\n",
       "      <td>Kazimierz</td>\n",
       "      <td>5639c271cd1086837a2fea42</td>\n",
       "      <td>Nolio</td>\n",
       "      <td>50.049356</td>\n",
       "      <td>19.942901</td>\n",
       "      <td>Pizza Place</td>\n",
       "      <td>False</td>\n",
       "      <td>9.0</td>\n",
       "      <td>77</td>\n",
       "      <td>251</td>\n",
       "      <td>50</td>\n",
       "    </tr>\n",
       "    <tr>\n",
       "      <td>3</td>\n",
       "      <td>Kazimierz</td>\n",
       "      <td>5283cd6411d296aa84e3d8d7</td>\n",
       "      <td>Bottiglieria 1881</td>\n",
       "      <td>50.048738</td>\n",
       "      <td>19.946163</td>\n",
       "      <td>Italian Restaurant</td>\n",
       "      <td>False</td>\n",
       "      <td>8.7</td>\n",
       "      <td>5</td>\n",
       "      <td>22</td>\n",
       "      <td>11</td>\n",
       "    </tr>\n",
       "    <tr>\n",
       "      <td>4</td>\n",
       "      <td>Kazimierz</td>\n",
       "      <td>57262e7c498e0c9c72558bb5</td>\n",
       "      <td>Good Lood</td>\n",
       "      <td>50.048777</td>\n",
       "      <td>19.944739</td>\n",
       "      <td>Ice Cream Shop</td>\n",
       "      <td>False</td>\n",
       "      <td>8.6</td>\n",
       "      <td>34</td>\n",
       "      <td>109</td>\n",
       "      <td>38</td>\n",
       "    </tr>\n",
       "    <tr>\n",
       "      <td>...</td>\n",
       "      <td>...</td>\n",
       "      <td>...</td>\n",
       "      <td>...</td>\n",
       "      <td>...</td>\n",
       "      <td>...</td>\n",
       "      <td>...</td>\n",
       "      <td>...</td>\n",
       "      <td>...</td>\n",
       "      <td>...</td>\n",
       "      <td>...</td>\n",
       "      <td>...</td>\n",
       "    </tr>\n",
       "    <tr>\n",
       "      <td>195</td>\n",
       "      <td>Main square</td>\n",
       "      <td>55448431498e731178b9e24b</td>\n",
       "      <td>Little Havana Hostel</td>\n",
       "      <td>50.061960</td>\n",
       "      <td>19.934831</td>\n",
       "      <td>Hostel</td>\n",
       "      <td>False</td>\n",
       "      <td>7.6</td>\n",
       "      <td>3</td>\n",
       "      <td>10</td>\n",
       "      <td>6</td>\n",
       "    </tr>\n",
       "    <tr>\n",
       "      <td>196</td>\n",
       "      <td>Main square</td>\n",
       "      <td>4fb68199e4b0204f4d42f2e0</td>\n",
       "      <td>Muzeum Farmacji</td>\n",
       "      <td>50.063268</td>\n",
       "      <td>19.940134</td>\n",
       "      <td>History Museum</td>\n",
       "      <td>False</td>\n",
       "      <td>7.5</td>\n",
       "      <td>1</td>\n",
       "      <td>8</td>\n",
       "      <td>7</td>\n",
       "    </tr>\n",
       "    <tr>\n",
       "      <td>197</td>\n",
       "      <td>Main square</td>\n",
       "      <td>4cdda698db1254810bab2bce</td>\n",
       "      <td>CK Dezerter</td>\n",
       "      <td>50.060336</td>\n",
       "      <td>19.936326</td>\n",
       "      <td>Eastern European Restaurant</td>\n",
       "      <td>False</td>\n",
       "      <td>7.4</td>\n",
       "      <td>6</td>\n",
       "      <td>26</td>\n",
       "      <td>28</td>\n",
       "    </tr>\n",
       "    <tr>\n",
       "      <td>198</td>\n",
       "      <td>Main square</td>\n",
       "      <td>51802019498ef82bbe68129f</td>\n",
       "      <td>Tiffany Ice cream</td>\n",
       "      <td>50.063795</td>\n",
       "      <td>19.935643</td>\n",
       "      <td>Ice Cream Shop</td>\n",
       "      <td>False</td>\n",
       "      <td>7.8</td>\n",
       "      <td>23</td>\n",
       "      <td>50</td>\n",
       "      <td>30</td>\n",
       "    </tr>\n",
       "    <tr>\n",
       "      <td>199</td>\n",
       "      <td>Main square</td>\n",
       "      <td>4db6deca5da3a76f446edef3</td>\n",
       "      <td>Szara Resto&amp;Bar</td>\n",
       "      <td>50.061323</td>\n",
       "      <td>19.938078</td>\n",
       "      <td>Restaurant</td>\n",
       "      <td>False</td>\n",
       "      <td>7.4</td>\n",
       "      <td>31</td>\n",
       "      <td>54</td>\n",
       "      <td>123</td>\n",
       "    </tr>\n",
       "  </tbody>\n",
       "</table>\n",
       "<p>200 rows × 11 columns</p>\n",
       "</div>"
      ],
      "text/plain": [
       "        District                        id                Venues  \\\n",
       "0      Kazimierz  56193c32498e5b08a853b2e6         Youmiko Sushi   \n",
       "1      Kazimierz  55ce5da3498e5b80f82f9afc              BARaWINO   \n",
       "2      Kazimierz  5639c271cd1086837a2fea42                 Nolio   \n",
       "3      Kazimierz  5283cd6411d296aa84e3d8d7     Bottiglieria 1881   \n",
       "4      Kazimierz  57262e7c498e0c9c72558bb5             Good Lood   \n",
       "..           ...                       ...                   ...   \n",
       "195  Main square  55448431498e731178b9e24b  Little Havana Hostel   \n",
       "196  Main square  4fb68199e4b0204f4d42f2e0       Muzeum Farmacji   \n",
       "197  Main square  4cdda698db1254810bab2bce           CK Dezerter   \n",
       "198  Main square  51802019498ef82bbe68129f     Tiffany Ice cream   \n",
       "199  Main square  4db6deca5da3a76f446edef3       Szara Resto&Bar   \n",
       "\n",
       "     Venue Latitude  Venue Longitude               Venue Category  Verified  \\\n",
       "0         50.050314        19.943130             Sushi Restaurant     False   \n",
       "1         50.048434        19.944891                     Wine Bar     False   \n",
       "2         50.049356        19.942901                  Pizza Place     False   \n",
       "3         50.048738        19.946163           Italian Restaurant     False   \n",
       "4         50.048777        19.944739               Ice Cream Shop     False   \n",
       "..              ...              ...                          ...       ...   \n",
       "195       50.061960        19.934831                       Hostel     False   \n",
       "196       50.063268        19.940134               History Museum     False   \n",
       "197       50.060336        19.936326  Eastern European Restaurant     False   \n",
       "198       50.063795        19.935643               Ice Cream Shop     False   \n",
       "199       50.061323        19.938078                   Restaurant     False   \n",
       "\n",
       "     Rating  Tips Count  Likes Count  Photos Count  \n",
       "0       9.5          89          237           102  \n",
       "1       9.2          13           67            21  \n",
       "2       9.0          77          251            50  \n",
       "3       8.7           5           22            11  \n",
       "4       8.6          34          109            38  \n",
       "..      ...         ...          ...           ...  \n",
       "195     7.6           3           10             6  \n",
       "196     7.5           1            8             7  \n",
       "197     7.4           6           26            28  \n",
       "198     7.8          23           50            30  \n",
       "199     7.4          31           54           123  \n",
       "\n",
       "[200 rows x 11 columns]"
      ]
     },
     "execution_count": 13,
     "metadata": {},
     "output_type": "execute_result"
    }
   ],
   "source": [
    "venues"
   ]
  },
  {
   "cell_type": "markdown",
   "metadata": {},
   "source": [
    "# Performing groupby() operation, and counting most popular categories od venues in each district"
   ]
  },
  {
   "cell_type": "code",
   "execution_count": 14,
   "metadata": {},
   "outputs": [
    {
     "data": {
      "text/html": [
       "<div>\n",
       "<style scoped>\n",
       "    .dataframe tbody tr th:only-of-type {\n",
       "        vertical-align: middle;\n",
       "    }\n",
       "\n",
       "    .dataframe tbody tr th {\n",
       "        vertical-align: top;\n",
       "    }\n",
       "\n",
       "    .dataframe thead th {\n",
       "        text-align: right;\n",
       "    }\n",
       "</style>\n",
       "<table border=\"1\" class=\"dataframe\">\n",
       "  <thead>\n",
       "    <tr style=\"text-align: right;\">\n",
       "      <th></th>\n",
       "      <th>Count</th>\n",
       "    </tr>\n",
       "    <tr>\n",
       "      <th>Venue Category</th>\n",
       "      <th></th>\n",
       "    </tr>\n",
       "  </thead>\n",
       "  <tbody>\n",
       "    <tr>\n",
       "      <td>Bar</td>\n",
       "      <td>5</td>\n",
       "    </tr>\n",
       "    <tr>\n",
       "      <td>Café</td>\n",
       "      <td>10</td>\n",
       "    </tr>\n",
       "    <tr>\n",
       "      <td>Food Truck</td>\n",
       "      <td>6</td>\n",
       "    </tr>\n",
       "    <tr>\n",
       "      <td>Polish Restaurant</td>\n",
       "      <td>5</td>\n",
       "    </tr>\n",
       "    <tr>\n",
       "      <td>Restaurant</td>\n",
       "      <td>6</td>\n",
       "    </tr>\n",
       "  </tbody>\n",
       "</table>\n",
       "</div>"
      ],
      "text/plain": [
       "                   Count\n",
       "Venue Category          \n",
       "Bar                    5\n",
       "Café                  10\n",
       "Food Truck             6\n",
       "Polish Restaurant      5\n",
       "Restaurant             6"
      ]
     },
     "execution_count": 14,
     "metadata": {},
     "output_type": "execute_result"
    }
   ],
   "source": [
    "venues_kazimierz = venues[venues['District'] == 'Kazimierz']\n",
    "venues_kazimierz_count = pd.DataFrame(venues_kazimierz.groupby(['Venue Category','District'])['Venue Category'].count())\n",
    "venues_kazimierz_count.columns = ['Count']\n",
    "venues_kazimierz_count.reset_index(level=venues_kazimierz_count.index.names, inplace=True)\n",
    "venues_kazimierz_count = venues_kazimierz_count.drop(['District'], axis = 1)\n",
    "venues_kazimierz_count.set_index(venues_kazimierz_count['Venue Category'], inplace = True)\n",
    "venues_kazimierz_count = venues_kazimierz_count[venues_kazimierz_count['Count'] > 3]\n",
    "venues_kazimierz_count.drop(['Venue Category'], axis = 1)"
   ]
  },
  {
   "cell_type": "code",
   "execution_count": 15,
   "metadata": {},
   "outputs": [
    {
     "data": {
      "text/html": [
       "<div>\n",
       "<style scoped>\n",
       "    .dataframe tbody tr th:only-of-type {\n",
       "        vertical-align: middle;\n",
       "    }\n",
       "\n",
       "    .dataframe tbody tr th {\n",
       "        vertical-align: top;\n",
       "    }\n",
       "\n",
       "    .dataframe thead th {\n",
       "        text-align: right;\n",
       "    }\n",
       "</style>\n",
       "<table border=\"1\" class=\"dataframe\">\n",
       "  <thead>\n",
       "    <tr style=\"text-align: right;\">\n",
       "      <th></th>\n",
       "      <th>Count</th>\n",
       "    </tr>\n",
       "    <tr>\n",
       "      <th>Venue Category</th>\n",
       "      <th></th>\n",
       "    </tr>\n",
       "  </thead>\n",
       "  <tbody>\n",
       "    <tr>\n",
       "      <td>Café</td>\n",
       "      <td>10</td>\n",
       "    </tr>\n",
       "    <tr>\n",
       "      <td>Coffee Shop</td>\n",
       "      <td>4</td>\n",
       "    </tr>\n",
       "    <tr>\n",
       "      <td>Ice Cream Shop</td>\n",
       "      <td>4</td>\n",
       "    </tr>\n",
       "    <tr>\n",
       "      <td>Italian Restaurant</td>\n",
       "      <td>7</td>\n",
       "    </tr>\n",
       "    <tr>\n",
       "      <td>Plaza</td>\n",
       "      <td>5</td>\n",
       "    </tr>\n",
       "    <tr>\n",
       "      <td>Polish Restaurant</td>\n",
       "      <td>6</td>\n",
       "    </tr>\n",
       "    <tr>\n",
       "      <td>Pub</td>\n",
       "      <td>4</td>\n",
       "    </tr>\n",
       "    <tr>\n",
       "      <td>Restaurant</td>\n",
       "      <td>4</td>\n",
       "    </tr>\n",
       "  </tbody>\n",
       "</table>\n",
       "</div>"
      ],
      "text/plain": [
       "                    Count\n",
       "Venue Category           \n",
       "Café                   10\n",
       "Coffee Shop             4\n",
       "Ice Cream Shop          4\n",
       "Italian Restaurant      7\n",
       "Plaza                   5\n",
       "Polish Restaurant       6\n",
       "Pub                     4\n",
       "Restaurant              4"
      ]
     },
     "execution_count": 15,
     "metadata": {},
     "output_type": "execute_result"
    }
   ],
   "source": [
    "venues_main_square = venues[venues['District'] == 'Main square']\n",
    "venues_main_square_count = pd.DataFrame(venues_main_square.groupby(['Venue Category','District'])['Venue Category'].count())\n",
    "venues_main_square_count.columns = ['Count']\n",
    "venues_main_square_count.reset_index(level=venues_main_square_count.index.names, inplace=True)\n",
    "venues_main_square_count = venues_main_square_count.drop(['District'], axis = 1)\n",
    "venues_main_square_count.set_index(venues_main_square_count['Venue Category'], inplace = True)\n",
    "venues_main_square_count = venues_main_square_count[venues_main_square_count['Count'] > 3]\n",
    "venues_main_square_count.drop(['Venue Category'], axis = 1)"
   ]
  },
  {
   "cell_type": "markdown",
   "metadata": {},
   "source": [
    "# Ploting most popular categories od venues in each district"
   ]
  },
  {
   "cell_type": "code",
   "execution_count": 16,
   "metadata": {},
   "outputs": [
    {
     "data": {
      "image/png": "[encoded data removed]",
      "text/plain": [
       "<Figure size 1152x360 with 2 Axes>"
      ]
     },
     "metadata": {
      "needs_background": "light"
     },
     "output_type": "display_data"
    }
   ],
   "source": [
    "fig, (ax1,ax2) = plt.subplots(1,2, figsize=(16,5))\n",
    "venues_kazimierz_count.sort_values('Count',ascending=False).plot(kind = 'bar', ax=ax1, color='green')\n",
    "ax1.title.set_text(\"Kazimierz\")\n",
    "venues_main_square_count.sort_values('Count',ascending=False).plot(kind = 'bar', ax=ax2)\n",
    "ax2.title.set_text(\"Main Square\")"
   ]
  },
  {
   "cell_type": "markdown",
   "metadata": {},
   "source": [
    "# Performing descriptive statistics"
   ]
  },
  {
   "cell_type": "code",
   "execution_count": 35,
   "metadata": {},
   "outputs": [
    {
     "data": {
      "text/html": [
       "<div>\n",
       "<style scoped>\n",
       "    .dataframe tbody tr th:only-of-type {\n",
       "        vertical-align: middle;\n",
       "    }\n",
       "\n",
       "    .dataframe tbody tr th {\n",
       "        vertical-align: top;\n",
       "    }\n",
       "\n",
       "    .dataframe thead th {\n",
       "        text-align: right;\n",
       "    }\n",
       "</style>\n",
       "<table border=\"1\" class=\"dataframe\">\n",
       "  <thead>\n",
       "    <tr style=\"text-align: right;\">\n",
       "      <th></th>\n",
       "      <th>Venue Latitude</th>\n",
       "      <th>Venue Longitude</th>\n",
       "      <th>Rating</th>\n",
       "      <th>Tips Count</th>\n",
       "      <th>Likes Count</th>\n",
       "      <th>Photos Count</th>\n",
       "    </tr>\n",
       "  </thead>\n",
       "  <tbody>\n",
       "    <tr>\n",
       "      <td>count</td>\n",
       "      <td>100.000000</td>\n",
       "      <td>100.000000</td>\n",
       "      <td>100.000000</td>\n",
       "      <td>100.000000</td>\n",
       "      <td>100.000000</td>\n",
       "      <td>100.00000</td>\n",
       "    </tr>\n",
       "    <tr>\n",
       "      <td>mean</td>\n",
       "      <td>50.050685</td>\n",
       "      <td>19.945580</td>\n",
       "      <td>8.037000</td>\n",
       "      <td>27.730000</td>\n",
       "      <td>81.630000</td>\n",
       "      <td>53.21000</td>\n",
       "    </tr>\n",
       "    <tr>\n",
       "      <td>std</td>\n",
       "      <td>0.001646</td>\n",
       "      <td>0.002124</td>\n",
       "      <td>0.554441</td>\n",
       "      <td>37.447298</td>\n",
       "      <td>111.967136</td>\n",
       "      <td>68.33892</td>\n",
       "    </tr>\n",
       "    <tr>\n",
       "      <td>min</td>\n",
       "      <td>50.047327</td>\n",
       "      <td>19.940641</td>\n",
       "      <td>6.900000</td>\n",
       "      <td>0.000000</td>\n",
       "      <td>6.000000</td>\n",
       "      <td>0.00000</td>\n",
       "    </tr>\n",
       "    <tr>\n",
       "      <td>25%</td>\n",
       "      <td>50.049296</td>\n",
       "      <td>19.944371</td>\n",
       "      <td>7.600000</td>\n",
       "      <td>5.750000</td>\n",
       "      <td>16.750000</td>\n",
       "      <td>13.00000</td>\n",
       "    </tr>\n",
       "    <tr>\n",
       "      <td>50%</td>\n",
       "      <td>50.050824</td>\n",
       "      <td>19.945645</td>\n",
       "      <td>8.100000</td>\n",
       "      <td>14.500000</td>\n",
       "      <td>44.500000</td>\n",
       "      <td>27.50000</td>\n",
       "    </tr>\n",
       "    <tr>\n",
       "      <td>75%</td>\n",
       "      <td>50.051822</td>\n",
       "      <td>19.947206</td>\n",
       "      <td>8.400000</td>\n",
       "      <td>32.250000</td>\n",
       "      <td>78.500000</td>\n",
       "      <td>63.25000</td>\n",
       "    </tr>\n",
       "    <tr>\n",
       "      <td>max</td>\n",
       "      <td>50.053440</td>\n",
       "      <td>19.950407</td>\n",
       "      <td>9.500000</td>\n",
       "      <td>213.000000</td>\n",
       "      <td>700.000000</td>\n",
       "      <td>404.00000</td>\n",
       "    </tr>\n",
       "  </tbody>\n",
       "</table>\n",
       "</div>"
      ],
      "text/plain": [
       "       Venue Latitude  Venue Longitude      Rating  Tips Count  Likes Count  \\\n",
       "count      100.000000       100.000000  100.000000  100.000000   100.000000   \n",
       "mean        50.050685        19.945580    8.037000   27.730000    81.630000   \n",
       "std          0.001646         0.002124    0.554441   37.447298   111.967136   \n",
       "min         50.047327        19.940641    6.900000    0.000000     6.000000   \n",
       "25%         50.049296        19.944371    7.600000    5.750000    16.750000   \n",
       "50%         50.050824        19.945645    8.100000   14.500000    44.500000   \n",
       "75%         50.051822        19.947206    8.400000   32.250000    78.500000   \n",
       "max         50.053440        19.950407    9.500000  213.000000   700.000000   \n",
       "\n",
       "       Photos Count  \n",
       "count     100.00000  \n",
       "mean       53.21000  \n",
       "std        68.33892  \n",
       "min         0.00000  \n",
       "25%        13.00000  \n",
       "50%        27.50000  \n",
       "75%        63.25000  \n",
       "max       404.00000  "
      ]
     },
     "execution_count": 35,
     "metadata": {},
     "output_type": "execute_result"
    }
   ],
   "source": [
    "venues_kazimierz.describe()"
   ]
  },
  {
   "cell_type": "code",
   "execution_count": 106,
   "metadata": {
    "scrolled": true
   },
   "outputs": [
    {
     "data": {
      "text/html": [
       "<div>\n",
       "<style scoped>\n",
       "    .dataframe tbody tr th:only-of-type {\n",
       "        vertical-align: middle;\n",
       "    }\n",
       "\n",
       "    .dataframe tbody tr th {\n",
       "        vertical-align: top;\n",
       "    }\n",
       "\n",
       "    .dataframe thead th {\n",
       "        text-align: right;\n",
       "    }\n",
       "</style>\n",
       "<table border=\"1\" class=\"dataframe\">\n",
       "  <thead>\n",
       "    <tr style=\"text-align: right;\">\n",
       "      <th></th>\n",
       "      <th>Venue Latitude</th>\n",
       "      <th>Venue Longitude</th>\n",
       "      <th>Rating</th>\n",
       "      <th>Tips Count</th>\n",
       "      <th>Likes Count</th>\n",
       "      <th>Photos Count</th>\n",
       "    </tr>\n",
       "  </thead>\n",
       "  <tbody>\n",
       "    <tr>\n",
       "      <td>count</td>\n",
       "      <td>100.000000</td>\n",
       "      <td>100.000000</td>\n",
       "      <td>100.000000</td>\n",
       "      <td>100.00000</td>\n",
       "      <td>100.000000</td>\n",
       "      <td>100.000000</td>\n",
       "    </tr>\n",
       "    <tr>\n",
       "      <td>mean</td>\n",
       "      <td>50.061892</td>\n",
       "      <td>19.938012</td>\n",
       "      <td>8.068000</td>\n",
       "      <td>40.09000</td>\n",
       "      <td>134.140000</td>\n",
       "      <td>158.400000</td>\n",
       "    </tr>\n",
       "    <tr>\n",
       "      <td>std</td>\n",
       "      <td>0.001325</td>\n",
       "      <td>0.002168</td>\n",
       "      <td>0.434818</td>\n",
       "      <td>57.52612</td>\n",
       "      <td>231.843252</td>\n",
       "      <td>564.601782</td>\n",
       "    </tr>\n",
       "    <tr>\n",
       "      <td>min</td>\n",
       "      <td>50.059121</td>\n",
       "      <td>19.933834</td>\n",
       "      <td>7.400000</td>\n",
       "      <td>0.00000</td>\n",
       "      <td>3.000000</td>\n",
       "      <td>2.000000</td>\n",
       "    </tr>\n",
       "    <tr>\n",
       "      <td>25%</td>\n",
       "      <td>50.060873</td>\n",
       "      <td>19.936209</td>\n",
       "      <td>7.700000</td>\n",
       "      <td>6.00000</td>\n",
       "      <td>21.250000</td>\n",
       "      <td>20.750000</td>\n",
       "    </tr>\n",
       "    <tr>\n",
       "      <td>50%</td>\n",
       "      <td>50.061893</td>\n",
       "      <td>19.938046</td>\n",
       "      <td>8.000000</td>\n",
       "      <td>17.00000</td>\n",
       "      <td>52.000000</td>\n",
       "      <td>49.000000</td>\n",
       "    </tr>\n",
       "    <tr>\n",
       "      <td>75%</td>\n",
       "      <td>50.063055</td>\n",
       "      <td>19.939716</td>\n",
       "      <td>8.300000</td>\n",
       "      <td>50.25000</td>\n",
       "      <td>159.250000</td>\n",
       "      <td>117.000000</td>\n",
       "    </tr>\n",
       "    <tr>\n",
       "      <td>max</td>\n",
       "      <td>50.064213</td>\n",
       "      <td>19.942660</td>\n",
       "      <td>9.200000</td>\n",
       "      <td>365.00000</td>\n",
       "      <td>1742.000000</td>\n",
       "      <td>5546.000000</td>\n",
       "    </tr>\n",
       "  </tbody>\n",
       "</table>\n",
       "</div>"
      ],
      "text/plain": [
       "       Venue Latitude  Venue Longitude      Rating  Tips Count  Likes Count  \\\n",
       "count      100.000000       100.000000  100.000000   100.00000   100.000000   \n",
       "mean        50.061892        19.938012    8.068000    40.09000   134.140000   \n",
       "std          0.001325         0.002168    0.434818    57.52612   231.843252   \n",
       "min         50.059121        19.933834    7.400000     0.00000     3.000000   \n",
       "25%         50.060873        19.936209    7.700000     6.00000    21.250000   \n",
       "50%         50.061893        19.938046    8.000000    17.00000    52.000000   \n",
       "75%         50.063055        19.939716    8.300000    50.25000   159.250000   \n",
       "max         50.064213        19.942660    9.200000   365.00000  1742.000000   \n",
       "\n",
       "       Photos Count  \n",
       "count    100.000000  \n",
       "mean     158.400000  \n",
       "std      564.601782  \n",
       "min        2.000000  \n",
       "25%       20.750000  \n",
       "50%       49.000000  \n",
       "75%      117.000000  \n",
       "max     5546.000000  "
      ]
     },
     "execution_count": 106,
     "metadata": {},
     "output_type": "execute_result"
    }
   ],
   "source": [
    "venues_main_square.describe()"
   ]
  },
  {
   "cell_type": "markdown",
   "metadata": {},
   "source": [
    "# Creating regplots for each each of the combination of target and independent feature, to see if there is a visible linear correlations "
   ]
  },
  {
   "cell_type": "code",
   "execution_count": 37,
   "metadata": {},
   "outputs": [
    {
     "data": {
      "text/plain": [
       "Text(0.5, 1.0, 'Kazimierz')"
      ]
     },
     "execution_count": 37,
     "metadata": {},
     "output_type": "execute_result"
    },
    {
     "data": {
      "image/png": "[encoded data removed]",
      "text/plain": [
       "<Figure size 432x288 with 1 Axes>"
      ]
     },
     "metadata": {
      "needs_background": "light"
     },
     "output_type": "display_data"
    }
   ],
   "source": [
    "ax = sns.regplot(x='Tips Count', y='Rating', data=venues_kazimierz, color='green')\n",
    "ax.set_title('Kazimierz')"
   ]
  },
  {
   "cell_type": "code",
   "execution_count": 38,
   "metadata": {},
   "outputs": [
    {
     "data": {
      "text/plain": [
       "Text(0.5, 1.0, 'Kazimierz')"
      ]
     },
     "execution_count": 38,
     "metadata": {},
     "output_type": "execute_result"
    },
    {
     "data": {
      "image/png": "[encoded data removed]",
      "text/plain": [
       "<Figure size 432x288 with 1 Axes>"
      ]
     },
     "metadata": {
      "needs_background": "light"
     },
     "output_type": "display_data"
    }
   ],
   "source": [
    "ax = sns.regplot(x='Likes Count', y='Rating', data=venues_kazimierz, color='green')\n",
    "ax.set_title('Kazimierz')"
   ]
  },
  {
   "cell_type": "code",
   "execution_count": 39,
   "metadata": {},
   "outputs": [
    {
     "data": {
      "text/plain": [
       "Text(0.5, 1.0, 'Kazimierz')"
      ]
     },
     "execution_count": 39,
     "metadata": {},
     "output_type": "execute_result"
    },
    {
     "data": {
      "image/png": "[encoded data removed]",
      "text/plain": [
       "<Figure size 432x288 with 1 Axes>"
      ]
     },
     "metadata": {
      "needs_background": "light"
     },
     "output_type": "display_data"
    }
   ],
   "source": [
    "ax = sns.regplot(x='Photos Count', y='Rating', data=venues_kazimierz, color='green')\n",
    "ax.set_title('Kazimierz')"
   ]
  },
  {
   "cell_type": "code",
   "execution_count": 42,
   "metadata": {},
   "outputs": [
    {
     "data": {
      "text/plain": [
       "Text(0.5, 1.0, 'Main square')"
      ]
     },
     "execution_count": 42,
     "metadata": {},
     "output_type": "execute_result"
    },
    {
     "data": {
      "image/png": "[encoded data removed]",
      "text/plain": [
       "<Figure size 432x288 with 1 Axes>"
      ]
     },
     "metadata": {
      "needs_background": "light"
     },
     "output_type": "display_data"
    }
   ],
   "source": [
    "ax = sns.regplot(x='Tips Count', y='Rating', data=venues_main_square)\n",
    "ax.set_title('Main square')"
   ]
  },
  {
   "cell_type": "code",
   "execution_count": 43,
   "metadata": {},
   "outputs": [
    {
     "data": {
      "text/plain": [
       "Text(0.5, 1.0, 'Main square')"
      ]
     },
     "execution_count": 43,
     "metadata": {},
     "output_type": "execute_result"
    },
    {
     "data": {
      "image/png": "[encoded data removed]",
      "text/plain": [
       "<Figure size 432x288 with 1 Axes>"
      ]
     },
     "metadata": {
      "needs_background": "light"
     },
     "output_type": "display_data"
    }
   ],
   "source": [
    "ax = sns.regplot(x='Likes Count', y='Rating', data=venues_main_square)\n",
    "ax.set_title('Main square')"
   ]
  },
  {
   "cell_type": "code",
   "execution_count": 44,
   "metadata": {},
   "outputs": [
    {
     "data": {
      "text/plain": [
       "Text(0.5, 1.0, 'Main square')"
      ]
     },
     "execution_count": 44,
     "metadata": {},
     "output_type": "execute_result"
    },
    {
     "data": {
      "image/png": "[encoded data removed]",
      "text/plain": [
       "<Figure size 432x288 with 1 Axes>"
      ]
     },
     "metadata": {
      "needs_background": "light"
     },
     "output_type": "display_data"
    }
   ],
   "source": [
    "ax = sns.regplot(x='Photos Count', y='Rating', data=venues_main_square)\n",
    "ax.set_title('Main square')"
   ]
  },
  {
   "cell_type": "markdown",
   "metadata": {},
   "source": [
    "# Fitting and evaluating one comibnation of target and feature"
   ]
  },
  {
   "cell_type": "code",
   "execution_count": 45,
   "metadata": {},
   "outputs": [],
   "source": [
    "cdf = venues_kazimierz[['Rating','Tips Count']]"
   ]
  },
  {
   "cell_type": "code",
   "execution_count": 47,
   "metadata": {},
   "outputs": [],
   "source": [
    "msk = np.random.rand(len(venues_kazimierz)) < 0.8\n",
    "train = cdf[msk]\n",
    "test = cdf[~msk]"
   ]
  },
  {
   "cell_type": "code",
   "execution_count": 52,
   "metadata": {},
   "outputs": [
    {
     "data": {
      "text/plain": [
       "LinearRegression(copy_X=True, fit_intercept=True, n_jobs=None, normalize=False)"
      ]
     },
     "execution_count": 52,
     "metadata": {},
     "output_type": "execute_result"
    }
   ],
   "source": [
    "reg = linear_model.LinearRegression()\n",
    "train_x = np.asanyarray(train[['Tips Count']])\n",
    "train_y = np.asanyarray(train[['Rating']])\n",
    "reg.fit(train_x, train_y)"
   ]
  },
  {
   "cell_type": "code",
   "execution_count": 56,
   "metadata": {},
   "outputs": [],
   "source": [
    "test_x = np.asanyarray(test[['Tips Count']])5\n",
    "test_y = np.asanyarray(test[['Rating']])\n",
    "test_yhat = reg.predict(test_x)"
   ]
  },
  {
   "cell_type": "code",
   "execution_count": 57,
   "metadata": {},
   "outputs": [
    {
     "data": {
      "text/plain": [
       "-6.821236352451204"
      ]
     },
     "execution_count": 57,
     "metadata": {},
     "output_type": "execute_result"
    }
   ],
   "source": [
    "r2_score(test_yhat,test_y)"
   ]
  },
  {
   "cell_type": "markdown",
   "metadata": {},
   "source": [
    "# Transforming feature through polunomial transformation, and evaluating model"
   ]
  },
  {
   "cell_type": "code",
   "execution_count": 129,
   "metadata": {},
   "outputs": [],
   "source": [
    "def get_poly_degress(degrees):\n",
    "    \n",
    "    r2_score_dict = {}\n",
    "    \n",
    "    for d in degrees:\n",
    "        poly = PolynomialFeatures(degree=d)\n",
    "        train_x_poly = poly.fit_transform(train_x)\n",
    "        reg_poly = linear_model.LinearRegression()\n",
    "        reg_poly.fit(train_x_poly, train_y)\n",
    "        test_x_poly = poly.fit_transform(test_x)\n",
    "        test_yhat_poly = reg_poly.predict(test_x_poly)\n",
    "        r2 = r2_score(test_yhat_poly, test_y)\n",
    "        r2_score_dict.update({d:r2})\n",
    "        \n",
    "    return r2_score_dict"
   ]
  },
  {
   "cell_type": "code",
   "execution_count": 124,
   "metadata": {},
   "outputs": [],
   "source": [
    "degrees = [2,3,4,5,6,7]\n",
    "poly_degress = get_poly_degress(degrees)"
   ]
  },
  {
   "cell_type": "code",
   "execution_count": 136,
   "metadata": {},
   "outputs": [
    {
     "data": {
      "image/png": "[encoded data removed]",
      "text/plain": [
       "<Figure size 432x288 with 1 Axes>"
      ]
     },
     "metadata": {
      "needs_background": "light"
     },
     "output_type": "display_data"
    }
   ],
   "source": [
    "plt.plot(*zip(*sorted(poly_degress.items())))\n",
    "plt.xlabel(\"Degree\")\n",
    "plt.ylabel(\"R2 score\")\n",
    "plt.show()"
   ]
  },
  {
   "cell_type": "code",
   "execution_count": null,
   "metadata": {},
   "outputs": [],
   "source": []
  }
 ],
 "metadata": {
  "kernelspec": {
   "display_name": "Python 3",
   "language": "python",
   "name": "python3"
  },
  "language_info": {
   "codemirror_mode": {
    "name": "ipython",
    "version": 3
   },
   "file_extension": ".py",
   "mimetype": "text/x-python",
   "name": "python",
   "nbconvert_exporter": "python",
   "pygments_lexer": "ipython3",
   "version": "3.7.4"
  }
 },
 "nbformat": 4,
 "nbformat_minor": 2
}
